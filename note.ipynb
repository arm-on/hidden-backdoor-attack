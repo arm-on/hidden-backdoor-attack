{
 "cells": [
  {
   "cell_type": "code",
   "execution_count": 63,
   "metadata": {},
   "outputs": [],
   "source": [
    "from alexnet_fc7out import alexnet, NormalizeByChannelMeanStd\n",
    "import torch\n",
    "import torch.nn as nn\n",
    "import torch.utils.data\n",
    "import torchvision.transforms as transforms\n",
    "import torch.backends.cudnn as cudnn\n",
    "from dataset import PoisonGenerationDataset\n",
    "from PIL import Image\n",
    "import glob \n",
    "import random\n",
    "import os\n",
    "import cv2\n",
    "import numpy as np"
   ]
  },
  {
   "cell_type": "code",
   "execution_count": 50,
   "metadata": {},
   "outputs": [],
   "source": [
    "# me\n",
    "patch_size = 30 \n",
    "eps = 16\n",
    "lr = 0.01\n",
    "device = 'mps'\n",
    "trigger_id = 10\n",
    "path_prefix = '/Users/armanmalekzadeh/Documents/GitHub/hidden-trigger-backdoor/experiments/'\n",
    "target_filelist = glob.glob('data/target/n01531178/*.JPEG', recursive=True)\n",
    "target_filelist = [path_prefix + item for item in target_filelist]\n",
    "source_filelist = glob.glob('data/source/n03461385/*.JPEG', recursive=True)\n",
    "source_filelist = [path_prefix + item for item in source_filelist]"
   ]
  },
  {
   "cell_type": "code",
   "execution_count": 64,
   "metadata": {},
   "outputs": [],
   "source": [
    "def save_image(img, fname):\n",
    "\timg = img.data.numpy()\n",
    "\timg = np.transpose(img, (1, 2, 0))\n",
    "\timg = img[: , :, ::-1]\n",
    "\tcv2.imwrite(fname, np.uint8(255 * img), [cv2.IMWRITE_PNG_COMPRESSION, 0])"
   ]
  },
  {
   "cell_type": "code",
   "execution_count": 52,
   "metadata": {},
   "outputs": [],
   "source": [
    "class AverageMeter(object):\n",
    "\t\"\"\"Computes and stores the average and current value\"\"\"\n",
    "\tdef __init__(self):\n",
    "\t\tself.reset()\n",
    "\n",
    "\tdef reset(self):\n",
    "\t\tself.val = 0\n",
    "\t\tself.avg = 0\n",
    "\t\tself.sum = 0\n",
    "\t\tself.count = 0\n",
    "\n",
    "\tdef update(self, val, n=1):\n",
    "\t\tself.val = val\n",
    "\t\tself.sum += val * n\n",
    "\t\tself.count += n\n",
    "\t\tself.avg = self.sum / self.count\n",
    "\n",
    "def adjust_learning_rate(lr, iter):\n",
    "\t\"\"\"Sets the learning rate to the initial LR decayed by 0.5 every 1000 iterations\"\"\"\n",
    "\tlr = lr * (0.5 ** (iter // 1000))\n",
    "\treturn lr"
   ]
  },
  {
   "cell_type": "code",
   "execution_count": 53,
   "metadata": {},
   "outputs": [],
   "source": [
    "normalize = NormalizeByChannelMeanStd(\n",
    "mean=[0.485, 0.456, 0.406], std=[0.229, 0.224, 0.225])\n",
    "model = alexnet(pretrained=True)\n",
    "model.eval()\n",
    "model = nn.Sequential(normalize, model)\n",
    "\n",
    "model = model.to(device)"
   ]
  },
  {
   "cell_type": "code",
   "execution_count": 54,
   "metadata": {},
   "outputs": [],
   "source": [
    "losses = AverageMeter()"
   ]
  },
  {
   "cell_type": "code",
   "execution_count": 55,
   "metadata": {},
   "outputs": [],
   "source": [
    "trans_image = transforms.Compose([transforms.Resize((224, 224)),\n",
    "\t\t\t\t\t\t\t\t\t  transforms.ToTensor(),\n",
    "\t\t\t\t\t\t\t\t\t  ])\n",
    "trans_trigger = transforms.Compose([transforms.Resize((patch_size, patch_size)),\n",
    "                                    transforms.ToTensor(),\n",
    "                                    ])"
   ]
  },
  {
   "cell_type": "code",
   "execution_count": 56,
   "metadata": {},
   "outputs": [],
   "source": [
    "# PERTURBATION PARAMETERS\n",
    "eps1 = (eps/255.0)\n",
    "lr1 = lr\n",
    "\n",
    "trigger = Image.open('data/triggers/trigger_{}.png'.format(trigger_id)).convert('RGB')\n",
    "trigger = trans_trigger(trigger).unsqueeze(0).to(device)"
   ]
  },
  {
   "cell_type": "code",
   "execution_count": 57,
   "metadata": {},
   "outputs": [],
   "source": [
    "dataset_target = PoisonGenerationDataset(target_filelist, trans_image)\n",
    "dataset_source = PoisonGenerationDataset(source_filelist, trans_image)"
   ]
  },
  {
   "cell_type": "code",
   "execution_count": 60,
   "metadata": {},
   "outputs": [],
   "source": [
    "# SOURCE AND TARGET DATALOADERS\n",
    "train_loader_target = torch.utils.data.DataLoader(dataset_target,\n",
    "                                                batch_size=100,\n",
    "                                                shuffle=True,\n",
    "                                                num_workers=8,\n",
    "                                                pin_memory=True)\n",
    "\n",
    "train_loader_source = torch.utils.data.DataLoader(dataset_source,\n",
    "                                                    batch_size=100,\n",
    "                                                    shuffle=True,\n",
    "                                                    num_workers=8,\n",
    "                                                    pin_memory=True)"
   ]
  },
  {
   "cell_type": "code",
   "execution_count": 61,
   "metadata": {},
   "outputs": [],
   "source": [
    "# USE ITERATORS ON DATALOADERS TO HAVE DISTINCT PAIRING EACH TIME\n",
    "iter_target = iter(train_loader_target)\n",
    "iter_source = iter(train_loader_source)"
   ]
  },
  {
   "cell_type": "code",
   "execution_count": 65,
   "metadata": {},
   "outputs": [],
   "source": [
    "saveDir_patched = '/Users/armanmalekzadeh/Documents/GitHub/hidden-trigger-backdoor/experiments/patched'\n",
    "num_iter = 2\n",
    "saveDir_poison = '/Users/armanmalekzadeh/Documents/GitHub/hidden-trigger-backdoor/experiments/poison'\n",
    "epoch = 2"
   ]
  },
  {
   "cell_type": "code",
   "execution_count": 66,
   "metadata": {},
   "outputs": [],
   "source": [
    "num_poisoned = 0\n",
    "for i in range(len(train_loader_target)):\n",
    "\n",
    "\t# LOAD ONE BATCH OF SOURCE AND ONE BATCH OF TARGET\n",
    "\t(input1, path1) = next(iter_source)\n",
    "\t(input2, path2) = next(iter_target)\n",
    "\n",
    "\timg_ctr = 0 # image counter\n",
    "\n",
    "\tinput1 = input1.to(device) \n",
    "\tinput2 = input2.to(device)\n",
    "\tpert = nn.Parameter(torch.zeros_like(input2, requires_grad=True).to(device))\n",
    "\n",
    "\tfor z in range(input1.size(0)):\n",
    "\t\tstart_x = random.randint(0, 224-patch_size-1)\n",
    "\t\tstart_y = random.randint(0, 224-patch_size-1)\n",
    "\n",
    "\t\t# PASTE TRIGGER ON SOURCE IMAGES\n",
    "\t\tinput1[z, :, start_y:start_y+patch_size, start_x:start_x+patch_size] = trigger\n",
    "\n",
    "\toutput1, feat1 = model(input1)\n",
    "\tfeat1 = feat1.detach().clone()\n",
    "\n",
    "\tfor k in range(input1.size(0)):\n",
    "\t\timg_ctr = img_ctr+1\n",
    "\t\t# input2_pert = (pert[k].clone().cpu())\n",
    "\n",
    "\t\tfname = saveDir_patched + '/' + 'badnet_' + str(os.path.basename(path1[k])).split('.')[0] + '_' + 'epoch_' + str(epoch).zfill(2)\\\n",
    "\t\t\t\t+ str(img_ctr).zfill(5)+'.png'\n",
    "\n",
    "\t\tsave_image(input1[k].clone().cpu(), fname)\n",
    "\t\tnum_poisoned +=1\n",
    "\n",
    "\tfor j in range(num_iter):\n",
    "\t\tlr1 = adjust_learning_rate(lr, j)\n",
    "\n",
    "\t\toutput2, feat2 = model(input2+pert)\n",
    "\n",
    "\t\t# FIND CLOSEST PAIR WITHOUT REPLACEMENT\n",
    "\t\tfeat11 = feat1.clone()\n",
    "\t\tdist = torch.cdist(feat1, feat2)\n",
    "\t\tfor _ in range(feat2.size(0)):\n",
    "\t\t\tdist_min_index = (dist == torch.min(dist)).nonzero().squeeze()\n",
    "\t\t\tfeat1[dist_min_index[1]] = feat11[dist_min_index[0]]\n",
    "\t\t\tdist[dist_min_index[0], dist_min_index[1]] = 1e5\n",
    "\n",
    "\t\tloss1 = ((feat1-feat2)**2).sum(dim=1)\n",
    "\t\tloss = loss1.sum()\n",
    "\n",
    "\t\tlosses.update(loss.item(), input1.size(0))\n",
    "\n",
    "\t\tloss.backward()\n",
    "\n",
    "\t\tpert = pert- lr1*pert.grad\n",
    "\t\tpert = torch.clamp(pert, -eps1, eps1).detach_()\n",
    "\n",
    "\t\tpert = pert + input2\n",
    "\n",
    "\t\tpert = pert.clamp(0, 1)\n",
    "\n",
    "\t\tif loss1.max().item() < 10 or j == (num_iter-1):\n",
    "\t\t\tfor k in range(input2.size(0)):\n",
    "\t\t\t\timg_ctr = img_ctr+1\n",
    "\t\t\t\tinput2_pert = (pert[k].clone().cpu())\n",
    "\n",
    "\t\t\t\tfname = saveDir_poison + '/' + 'loss_' + str(int(loss1[k].item())).zfill(5) + '_' + 'epoch_' + \\\n",
    "\t\t\t\t\t\tstr(epoch).zfill(2) + '_' + str(os.path.basename(path2[k])).split('.')[0] + '_' + \\\n",
    "\t\t\t\t\t\tstr(os.path.basename(path1[k])).split('.')[0] + '_kk_' + str(img_ctr).zfill(5)+'.png'\n",
    "\n",
    "\t\t\t\tsave_image(input2_pert, fname)\n",
    "\t\t\t\tnum_poisoned +=1\n",
    "\n",
    "\t\t\tbreak\n",
    "\n",
    "\t\tpert = pert - input2\n",
    "\t\tpert.requires_grad = True\n"
   ]
  },
  {
   "cell_type": "code",
   "execution_count": null,
   "metadata": {},
   "outputs": [],
   "source": []
  }
 ],
 "metadata": {
  "kernelspec": {
   "display_name": "Python 3",
   "language": "python",
   "name": "python3"
  },
  "language_info": {
   "codemirror_mode": {
    "name": "ipython",
    "version": 3
   },
   "file_extension": ".py",
   "mimetype": "text/x-python",
   "name": "python",
   "nbconvert_exporter": "python",
   "pygments_lexer": "ipython3",
   "version": "3.11.5"
  }
 },
 "nbformat": 4,
 "nbformat_minor": 2
}
