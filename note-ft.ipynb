{
 "cells": [
  {
   "cell_type": "code",
   "execution_count": 1,
   "metadata": {},
   "outputs": [
    {
     "name": "stderr",
     "output_type": "stream",
     "text": [
      "/opt/homebrew/lib/python3.11/site-packages/tqdm/auto.py:21: TqdmWarning: IProgress not found. Please update jupyter and ipywidgets. See https://ipywidgets.readthedocs.io/en/stable/user_install.html\n",
      "  from .autonotebook import tqdm as notebook_tqdm\n"
     ]
    }
   ],
   "source": [
    "from PIL import Image\n",
    "import random\n",
    "\n",
    "import torch\n",
    "import torch.nn as nn\n",
    "import torch.optim as optim\n",
    "import numpy as np\n",
    "from torchvision import datasets, models, transforms\n",
    "import time\n",
    "import os\n",
    "import copy\n",
    "import logging\n",
    "import sys\n",
    "import configparser\n",
    "import glob\n",
    "from tqdm import tqdm\n",
    "from dataset import LabeledDataset\n",
    "from alexnet_fc7out import NormalizeByChannelMeanStd"
   ]
  },
  {
   "cell_type": "code",
   "execution_count": null,
   "metadata": {},
   "outputs": [],
   "source": [
    "experimentID = config[\"experiment\"][\"ID\"]\n",
    "\n",
    "clean_data_root\t= options[\"clean_data_root\"]\n",
    "poison_root\t= options[\"poison_root\"]\n",
    "gpu         = int(options[\"gpu\"])\n",
    "epochs      = int(options[\"epochs\"])\n",
    "patch_size  = int(options[\"patch_size\"])\n",
    "eps         = int(options[\"eps\"])\n",
    "rand_loc    = options.getboolean(\"rand_loc\")\n",
    "trigger_id  = int(options[\"trigger_id\"])\n",
    "num_poison  = int(options[\"num_poison\"])\n",
    "num_classes = int(options[\"num_classes\"])\n",
    "batch_size  = int(options[\"batch_size\"])\n",
    "logfile     = options[\"logfile\"].format(experimentID, rand_loc, eps, patch_size, num_poison, trigger_id)\n",
    "lr\t\t\t= float(options[\"lr\"])\n",
    "momentum \t= float(options[\"momentum\"])\n",
    "\n",
    "options = config[\"poison_generation\"]\n",
    "target_wnid = options[\"target_wnid\"]\n",
    "source_wnid_list = options[\"source_wnid_list\"].format(experimentID)\n",
    "num_source = int(options[\"num_source\"])\n",
    "\n",
    "checkpointDir = \"finetuned_models/\" + experimentID + \"/rand_loc_\" +  str(rand_loc) + \"/eps_\" + str(eps) + \\\n",
    "\t\t\t\t\"/patch_size_\" + str(patch_size) + \"/num_poison_\" + str(num_poison) + \"/trigger_\" + str(trigger_id)\n",
    "# checkpointDir = \"badnet_models/\" + experimentID + \"/rand_loc_\" +  str(rand_loc) + \"/eps_\" + str(eps) + \\\n",
    "# \t\t\t\t\"/patch_size_\" + str(patch_size) + \"/num_poison_\" + str(num_poison) + \"/trigger_\" + str(trigger_id)\n",
    "\n",
    "if not os.path.exists(os.path.dirname(checkpointDir)):\n",
    "\tos.makedirs(os.path.dirname(checkpointDir))"
   ]
  },
  {
   "cell_type": "code",
   "execution_count": null,
   "metadata": {},
   "outputs": [],
   "source": [
    "# Models to choose from [resnet, alexnet, vgg, squeezenet, densenet, inception]\n",
    "model_name = \"alexnet\"\n",
    "\n",
    "# Flag for feature extracting. When False, we finetune the whole model,\n",
    "#   when True we only update the reshaped layer params\n",
    "feature_extract = True\n",
    "\n",
    "def save_checkpoint(state, filename='checkpoint.pth.tar'):\n",
    "\tif not os.path.exists(os.path.dirname(filename)):\n",
    "\t\tos.makedirs(os.path.dirname(filename))\n",
    "\ttorch.save(state, filename)\n",
    "\n",
    "trans_trigger = transforms.Compose([transforms.Resize((patch_size, patch_size)),\n",
    "\t\t\t\t\t\t\t\t\ttransforms.ToTensor(),\n",
    "\t\t\t\t\t\t\t\t\t])\n",
    "\n",
    "trigger = Image.open('data/triggers/trigger_{}.png'.format(trigger_id)).convert('RGB')\n",
    "trigger = trans_trigger(trigger).unsqueeze(0).cuda(gpu)"
   ]
  },
  {
   "cell_type": "code",
   "execution_count": null,
   "metadata": {},
   "outputs": [],
   "source": []
  }
 ],
 "metadata": {
  "kernelspec": {
   "display_name": "Python 3",
   "language": "python",
   "name": "python3"
  },
  "language_info": {
   "codemirror_mode": {
    "name": "ipython",
    "version": 3
   },
   "file_extension": ".py",
   "mimetype": "text/x-python",
   "name": "python",
   "nbconvert_exporter": "python",
   "pygments_lexer": "ipython3",
   "version": "3.11.5"
  }
 },
 "nbformat": 4,
 "nbformat_minor": 2
}
