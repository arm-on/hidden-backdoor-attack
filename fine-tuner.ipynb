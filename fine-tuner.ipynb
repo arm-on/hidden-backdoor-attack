{
 "cells": [
  {
   "cell_type": "code",
   "execution_count": 1,
   "metadata": {},
   "outputs": [
    {
     "name": "stderr",
     "output_type": "stream",
     "text": [
      "/opt/homebrew/lib/python3.11/site-packages/tqdm/auto.py:21: TqdmWarning: IProgress not found. Please update jupyter and ipywidgets. See https://ipywidgets.readthedocs.io/en/stable/user_install.html\n",
      "  from .autonotebook import tqdm as notebook_tqdm\n"
     ]
    }
   ],
   "source": [
    "from PIL import Image\n",
    "import random\n",
    "\n",
    "import torch\n",
    "import torch.nn as nn\n",
    "import torch.optim as optim\n",
    "import numpy as np\n",
    "from torchvision import models, transforms\n",
    "import time\n",
    "import os\n",
    "import copy\n",
    "import logging\n",
    "import glob\n",
    "from tqdm import tqdm\n",
    "try:\n",
    "    from torch.hub import load_state_dict_from_url\n",
    "except ImportError:\n",
    "    from torch.utils.model_zoo import load_url as load_state_dict_from_url"
   ]
  },
  {
   "cell_type": "code",
   "execution_count": 2,
   "metadata": {},
   "outputs": [],
   "source": [
    "from torch import cuda\n",
    "from torch.backends import mps\n",
    "device = 'cuda' if cuda.is_available() else ('mps' if mps.is_available() else 'cpu')"
   ]
  },
  {
   "cell_type": "code",
   "execution_count": 3,
   "metadata": {},
   "outputs": [],
   "source": [
    "def get_folder_filelist(folder_path, extension):\n",
    "    return glob.glob(os.path.join(folder_path, f'*.{extension}'))"
   ]
  },
  {
   "cell_type": "code",
   "execution_count": 4,
   "metadata": {},
   "outputs": [],
   "source": [
    "patch_size = 30\n",
    "rand_loc = True\n",
    "experimentID = 'arman'\n",
    "num_poison = 400\n",
    "eps = 16\n",
    "logfile = 'logs/finetune.log'\n",
    "num_classes = 10 # needs to be changed according to the dataset\n",
    "batch_size = 256\n",
    "lr = 0.001\n",
    "momentum = 0.9\n",
    "epochs = 30\n",
    "trigger_path = 'data/triggers/trigger_14.png'\n",
    "finetune_filelist = get_folder_filelist('/Users/armanmalekzadeh/Documents/GitHub/hidden-trigger-backdoor-attack/data/source/n02437312', 'JPEG')[:20]\n",
    "test_filelist = get_folder_filelist('/Users/armanmalekzadeh/Documents/GitHub/hidden-trigger-backdoor-attack/data/source/n02437312', 'JPEG')[:20]\n",
    "patched_filelist = get_folder_filelist('/Users/armanmalekzadeh/Documents/GitHub/hidden-trigger-backdoor-attack/data/source/n02437312', 'JPEG')[:20]\n",
    "clean_filelist = get_folder_filelist('/Users/armanmalekzadeh/Documents/GitHub/hidden-trigger-backdoor-attack/data/source/n02437312', 'JPEG')[:20]\n",
    "poison_filelist = get_folder_filelist('/Users/armanmalekzadeh/Documents/GitHub/hidden-trigger-backdoor-attack/data/source/n02437312', 'JPEG')[:20]\n",
    "labels = [0 for i in range(len(finetune_filelist))]\n",
    "model_urls = {\n",
    "    'alexnet': 'https://download.pytorch.org/models/alexnet-owt-4df8aa71.pth',\n",
    "}\n"
   ]
  },
  {
   "cell_type": "code",
   "execution_count": null,
   "metadata": {},
   "outputs": [],
   "source": [
    "def logging_info(msg):\n",
    "    with open(logfile, 'a+') as file:\n",
    "        file.write(f'{msg} \\n')"
   ]
  },
  {
   "cell_type": "code",
   "execution_count": 5,
   "metadata": {},
   "outputs": [],
   "source": [
    "def normalize_fn(tensor, mean, std):\n",
    "    \"\"\"Differentiable version of torchvision.functional.normalize\"\"\"\n",
    "    # here we assume the color channel is in at dim=1\n",
    "    mean = mean[None, :, None, None]\n",
    "    std = std[None, :, None, None]\n",
    "    return tensor.sub(mean).div(std)\n",
    "\n",
    "class NormalizeByChannelMeanStd(nn.Module):\n",
    "    def __init__(self, mean, std):\n",
    "        super(NormalizeByChannelMeanStd, self).__init__()\n",
    "        if not isinstance(mean, torch.Tensor):\n",
    "            mean = torch.tensor(mean)\n",
    "        if not isinstance(std, torch.Tensor):\n",
    "            std = torch.tensor(std)\n",
    "        self.register_buffer(\"mean\", mean)\n",
    "        self.register_buffer(\"std\", std)\n",
    "\n",
    "    def forward(self, tensor):\n",
    "        return normalize_fn(tensor, self.mean, self.std)\n",
    "\n",
    "    def extra_repr(self):\n",
    "        return 'mean={}, std={}'.format(self.mean, self.std)\n",
    "    \n",
    "class AlexNet(nn.Module):\n",
    "\n",
    "    def __init__(self, num_classes=1000):\n",
    "        super(AlexNet, self).__init__()\n",
    "        self.features = nn.Sequential(\n",
    "            nn.Conv2d(3, 64, kernel_size=11, stride=4, padding=2),\n",
    "            nn.ReLU(inplace=True),\n",
    "            nn.MaxPool2d(kernel_size=3, stride=2),\n",
    "            nn.Conv2d(64, 192, kernel_size=5, padding=2),\n",
    "            nn.ReLU(inplace=True),\n",
    "            nn.MaxPool2d(kernel_size=3, stride=2),\n",
    "            nn.Conv2d(192, 384, kernel_size=3, padding=1),\n",
    "            nn.ReLU(inplace=True),\n",
    "            nn.Conv2d(384, 256, kernel_size=3, padding=1),\n",
    "            nn.ReLU(inplace=True),\n",
    "            nn.Conv2d(256, 256, kernel_size=3, padding=1),\n",
    "            nn.ReLU(inplace=True),\n",
    "            nn.MaxPool2d(kernel_size=3, stride=2),\n",
    "        )\n",
    "        self.avgpool = nn.AdaptiveAvgPool2d((6, 6))\n",
    "        self.classifier = nn.Sequential(\n",
    "            nn.Dropout(),\n",
    "            nn.Linear(256 * 6 * 6, 4096),\n",
    "            nn.ReLU(inplace=True),\n",
    "            nn.Dropout(),\n",
    "            nn.Linear(4096, 4096),\n",
    "            nn.ReLU(inplace=True),\n",
    "            nn.Linear(4096, num_classes),\n",
    "        )\n",
    "\n",
    "    def forward(self, x):\n",
    "        x = self.features(x)\n",
    "        # feat = x.view(x.size(0), 256 * 6 * 6)           # conv5 features\n",
    "        x = self.avgpool(x)\n",
    "        x = x.flatten(1)\n",
    "\n",
    "        for i in range(6):\n",
    "            x = self.classifier[i](x)\n",
    "        feat = x                                        # fc7 features\n",
    "        x = self.classifier[6](x)\n",
    "\n",
    "#        x = self.classifier(x)\n",
    "        return x, feat\n",
    "\n",
    "def alexnet(pretrained=False, progress=True, **kwargs):\n",
    "    r\"\"\"AlexNet model architecture from the\n",
    "    `\"One weird trick...\" <https://arxiv.org/abs/1404.5997>`_ paper.\n",
    "\n",
    "    Args:\n",
    "        pretrained (bool): If True, returns a model pre-trained on ImageNet\n",
    "        progress (bool): If True, displays a progress bar of the download to stderr\n",
    "    \"\"\"\n",
    "    model = AlexNet(**kwargs)\n",
    "    if pretrained:\n",
    "        state_dict = load_state_dict_from_url(model_urls['alexnet'],\n",
    "                                              progress=progress)\n",
    "        model.load_state_dict(state_dict)\n",
    "    return model"
   ]
  },
  {
   "cell_type": "code",
   "execution_count": 6,
   "metadata": {},
   "outputs": [],
   "source": [
    "trans_trigger = transforms.Compose([transforms.Resize((patch_size, patch_size)),\n",
    "\t\t\t\t\t\t\t\t\ttransforms.ToTensor(),\n",
    "\t\t\t\t\t\t\t\t\t])\n",
    "\n",
    "trigger = Image.open(trigger_path).convert('RGB')\n",
    "trigger = trans_trigger(trigger).unsqueeze(0).to(device)"
   ]
  },
  {
   "cell_type": "code",
   "execution_count": 7,
   "metadata": {},
   "outputs": [],
   "source": [
    "def save_checkpoint(state, filename='checkpoint.pth.tar'):\n",
    "\tif not os.path.exists(os.path.dirname(filename)):\n",
    "\t\tos.makedirs(os.path.dirname(filename))\n",
    "\ttorch.save(state, filename)\n",
    "\n",
    "def adjust_learning_rate(optimizer, epoch):\n",
    "\tglobal lr\n",
    "\t\"\"\"Sets the learning rate to the initial LR decayed 10 times every 10 epochs\"\"\"\n",
    "\tlr1 = lr * (0.1 ** (epoch // 10))\n",
    "\tfor param_group in optimizer.param_groups:\n",
    "\t\tparam_group['lr'] = lr1\n",
    "  "
   ]
  },
  {
   "cell_type": "code",
   "execution_count": 8,
   "metadata": {},
   "outputs": [],
   "source": [
    "class LabeledDataset(torch.utils.data.Dataset):\n",
    "    def __init__(self, file_list, labels, transform):\n",
    "        self.file_list = file_list\n",
    "        self.labels = labels # should be 0 or 1 (?) (does it belong to the target class?)\n",
    "        self.transform = transform\n",
    "\n",
    "\n",
    "    def __getitem__(self, idx):\n",
    "        image_path = self.file_list[idx]\n",
    "        img = Image.open(image_path).convert('RGB')\n",
    "        label = self.labels[idx]\n",
    "\n",
    "        if self.transform is not None:\n",
    "            img = self.transform(img)\n",
    "\n",
    "        return img, label\n",
    "\n",
    "    def __len__(self):\n",
    "        return len(self.file_list)"
   ]
  },
  {
   "cell_type": "code",
   "execution_count": 9,
   "metadata": {},
   "outputs": [],
   "source": [
    "def train_model(model, dataloaders, criterion, optimizer, num_epochs=25, is_inception=False):\n",
    "\tsince = time.time()\n",
    "\n",
    "\tbest_model_wts = copy.deepcopy(model.state_dict())\n",
    "\tbest_acc = 0.0\n",
    "\n",
    "\ttest_acc_arr = np.zeros(num_epochs)\n",
    "\tpatched_acc_arr = np.zeros(num_epochs)\n",
    "\tnotpatched_acc_arr = np.zeros(num_epochs)\n",
    "\n",
    "\n",
    "\tfor epoch in range(num_epochs):\n",
    "\t\tadjust_learning_rate(optimizer, epoch)\n",
    "\t\tlogging_info('Epoch {}/{}'.format(epoch, num_epochs - 1))\n",
    "\t\tlogging_info('-' * 10)\n",
    "\n",
    "\t\t# Each epoch has a training and validation phase\n",
    "\t\tfor phase in ['train', 'test', 'notpatched', 'patched']:\n",
    "\t\t\tif phase == 'train':\n",
    "\t\t\t\tmodel.train()  # Set model to training mode\n",
    "\t\t\telse:\n",
    "\t\t\t\tmodel.eval()   # Set model to evaluate mode\n",
    "\n",
    "\t\t\trunning_loss = 0.0\n",
    "\t\t\trunning_corrects = 0\n",
    "\n",
    "\t\t\t# Set nn in patched phase to be higher if you want to cover variability in trigger placement\n",
    "\t\t\tif phase == 'patched':\n",
    "\t\t\t\tnn=1\n",
    "\t\t\telse:\n",
    "\t\t\t\tnn=1\n",
    "\n",
    "\t\t\tfor _ in range(0, nn):\n",
    "\t\t\t\t# Iterate over data.\n",
    "\t\t\t\tfor inputs, labels in tqdm(dataloaders[phase]):\n",
    "\n",
    "\t\t\t\t\tinputs = inputs.to(device)\n",
    "\t\t\t\t\tlabels = labels.to(device)\n",
    "\t\t\t\t\tif phase == 'patched':\n",
    "\t\t\t\t\t\trandom.seed(1)\n",
    "\t\t\t\t\t\tfor z in range(inputs.size(0)):\n",
    "\t\t\t\t\t\t\tif not rand_loc:\n",
    "\t\t\t\t\t\t\t\tstart_x = 224-patch_size-5\n",
    "\t\t\t\t\t\t\t\tstart_y = 224-patch_size-5\n",
    "\t\t\t\t\t\t\telse:\n",
    "\t\t\t\t\t\t\t\tstart_x = random.randint(0, 224-patch_size-1)\n",
    "\t\t\t\t\t\t\t\tstart_y = random.randint(0, 224-patch_size-1)\n",
    "\n",
    "\t\t\t\t\t\t\tinputs[z, :, start_y:start_y+patch_size, start_x:start_x+patch_size] = trigger#\n",
    "\n",
    "\t\t\t\t\t# zero the parameter gradients\n",
    "\t\t\t\t\toptimizer.zero_grad()\n",
    "\n",
    "\t\t\t\t\t# forward\n",
    "\t\t\t\t\t# track history if only in train\n",
    "\t\t\t\t\twith torch.set_grad_enabled(phase == 'train'):\n",
    "\t\t\t\t\t\t# Get model outputs and calculate loss\n",
    "\t\t\t\t\t\t# Special case for inception because in training it has an auxiliary output. In train\n",
    "\t\t\t\t\t\t#   mode we calculate the loss by summing the final output and the auxiliary output\n",
    "\t\t\t\t\t\t#   but in testing we only consider the final output.\n",
    "\t\t\t\t\t\tif is_inception and phase == 'train':\n",
    "\t\t\t\t\t\t\t# From https://discuss.pytorch.org/t/how-to-optimize-inception-model-with-auxiliary-classifiers/7958\n",
    "\t\t\t\t\t\t\toutputs, aux_outputs = model(inputs)\n",
    "\t\t\t\t\t\t\tloss1 = criterion(outputs, labels)\n",
    "\t\t\t\t\t\t\tloss2 = criterion(aux_outputs, labels)\n",
    "\t\t\t\t\t\t\tloss = loss1 + 0.4*loss2\n",
    "\t\t\t\t\t\telse:\n",
    "\t\t\t\t\t\t\toutputs = model(inputs)\n",
    "\t\t\t\t\t\t\tloss = criterion(outputs, labels)\n",
    "\n",
    "\t\t\t\t\t\t_, preds = torch.max(outputs, 1)\n",
    "\n",
    "\t\t\t\t\t\t# backward + optimize only if in training phase\n",
    "\t\t\t\t\t\tif phase == 'train':\n",
    "\t\t\t\t\t\t\tloss.backward()\n",
    "\t\t\t\t\t\t\toptimizer.step()\n",
    "\n",
    "\t\t\t\t\t# statistics\n",
    "\t\t\t\t\trunning_loss += loss.item() * inputs.size(0)\n",
    "\t\t\t\t\trunning_corrects += torch.sum(preds == labels.data)\n",
    "\n",
    "\t\t\tepoch_loss = running_loss / len(dataloaders[phase].dataset) / nn\n",
    "\t\t\tepoch_acc = running_corrects.to(torch.float32) / len(dataloaders[phase].dataset) / nn\n",
    "\n",
    "\n",
    "\n",
    "\t\t\tlogging_info('{} Loss: {:.4f} Acc: {:.4f}'.format(phase, epoch_loss, epoch_acc))\n",
    "\t\t\tif phase == 'test':\n",
    "\t\t\t\ttest_acc_arr[epoch] = epoch_acc\n",
    "\t\t\tif phase == 'patched':\n",
    "\t\t\t\tpatched_acc_arr[epoch] = epoch_acc\n",
    "\t\t\tif phase == 'notpatched':\n",
    "\t\t\t\tnotpatched_acc_arr[epoch] = epoch_acc\n",
    "\t\t\t# deep copy the model\n",
    "\t\t\tif phase == 'test' and (epoch_acc > best_acc):\n",
    "\t\t\t\tlogging_info(\"Better model found!\")\n",
    "\t\t\t\tbest_acc = epoch_acc\n",
    "\t\t\t\tbest_model_wts = copy.deepcopy(model.state_dict())\n",
    "\n",
    "\ttime_elapsed = time.time() - since\n",
    "\tlogging_info('Training complete in {:.0f}m {:.0f}s'.format(time_elapsed // 60, time_elapsed % 60))\n",
    "\tlogging_info('Max Test Acc: {:4f}'.format(best_acc))\n",
    "\tlogging_info('Last 10 Epochs Test Acc: Mean {:.3f} Std {:.3f} '\n",
    "\t\t\t\t .format(test_acc_arr[-10:].mean(),test_acc_arr[-10:].std()))\n",
    "\tlogging_info('Last 10 Epochs Patched Targeted Attack Success Rate: Mean {:.3f} Std {:.3f} '\n",
    "\t\t\t\t .format(patched_acc_arr[-10:].mean(),patched_acc_arr[-10:].std()))\n",
    "\tlogging_info('Last 10 Epochs NotPatched Targeted Attack Success Rate: Mean {:.3f} Std {:.3f} '\n",
    "\t\t\t\t .format(notpatched_acc_arr[-10:].mean(),notpatched_acc_arr[-10:].std()))\n",
    "\n",
    "\tsort_idx = np.argsort(test_acc_arr)\n",
    "\ttop10_idx = sort_idx[-10:]\n",
    "\tlogging_info('10 Epochs with Best Acc- Test Acc: Mean {:.3f} Std {:.3f} '\n",
    "\t\t\t\t .format(test_acc_arr[top10_idx].mean(),test_acc_arr[top10_idx].std()))\n",
    "\tlogging_info('10 Epochs with Best Acc- Patched Targeted Attack Success Rate: Mean {:.3f} Std {:.3f} '\n",
    "\t\t\t\t .format(patched_acc_arr[top10_idx].mean(),patched_acc_arr[top10_idx].std()))\n",
    "\tlogging_info('10 Epochs with Best Acc- NotPatched Targeted Attack Success Rate: Mean {:.3f} Std {:.3f} '\n",
    "\t\t\t\t .format(notpatched_acc_arr[top10_idx].mean(),notpatched_acc_arr[top10_idx].std()))\n",
    "\n",
    "\t# save meta into pickle\n",
    "\tmeta_dict = {'Val_acc': test_acc_arr,\n",
    "\t\t\t\t 'Patched_acc': patched_acc_arr,\n",
    "\t\t\t\t 'NotPatched_acc': notpatched_acc_arr\n",
    "\t\t\t\t }\n",
    "\n",
    "\t# load best model weights\n",
    "\tmodel.load_state_dict(best_model_wts)\n",
    "\treturn model, meta_dict"
   ]
  },
  {
   "cell_type": "code",
   "execution_count": 10,
   "metadata": {},
   "outputs": [],
   "source": [
    "def set_parameter_requires_grad(model, feature_extracting):\n",
    "\tif feature_extracting:\n",
    "\t\tfor param in model.parameters():\n",
    "\t\t\tparam.requires_grad = False"
   ]
  },
  {
   "cell_type": "code",
   "execution_count": 11,
   "metadata": {},
   "outputs": [],
   "source": [
    "def initialize_model(model_name, num_classes, feature_extract, use_pretrained=True):\n",
    "\t# Initialize these variables which will be set in this if statement. Each of these\n",
    "\t#   variables is model specific.\n",
    "\tmodel_ft = None\n",
    "\tinput_size = 0\n",
    "\n",
    "\tif model_name == \"resnet\":\n",
    "\t\t\"\"\" Resnet18\n",
    "\t\t\"\"\"\n",
    "\t\tmodel_ft = models.resnet18(pretrained=use_pretrained)\n",
    "\t\tset_parameter_requires_grad(model_ft, feature_extract)\n",
    "\t\tnum_ftrs = model_ft.fc.in_features\n",
    "\t\tmodel_ft.fc = nn.Linear(num_ftrs, num_classes)\n",
    "\t\tinput_size = 224\n",
    "\n",
    "\telif model_name == \"alexnet\":\n",
    "\t\t\"\"\" Alexnet\n",
    "\t\t\"\"\"\n",
    "\t\tmodel_ft = models.alexnet(pretrained=use_pretrained)\n",
    "\t\tset_parameter_requires_grad(model_ft, feature_extract)\n",
    "\t\tnum_ftrs = model_ft.classifier[6].in_features\n",
    "\t\tmodel_ft.classifier[6] = nn.Linear(num_ftrs,num_classes)\n",
    "\t\tinput_size = 224\n",
    "\n",
    "\telif model_name == \"vgg\":\n",
    "\t\t\"\"\" VGG11_bn\n",
    "\t\t\"\"\"\n",
    "\t\tmodel_ft = models.vgg11_bn(pretrained=use_pretrained)\n",
    "\t\tset_parameter_requires_grad(model_ft, feature_extract)\n",
    "\t\tnum_ftrs = model_ft.classifier[6].in_features\n",
    "\t\tmodel_ft.classifier[6] = nn.Linear(num_ftrs,num_classes)\n",
    "\t\tinput_size = 224\n",
    "\n",
    "\telif model_name == \"squeezenet\":\n",
    "\t\t\"\"\" Squeezenet\n",
    "\t\t\"\"\"\n",
    "\t\tmodel_ft = models.squeezenet1_0(pretrained=use_pretrained)\n",
    "\t\tset_parameter_requires_grad(model_ft, feature_extract)\n",
    "\t\tmodel_ft.classifier[1] = nn.Conv2d(512, num_classes, kernel_size=(1,1), stride=(1,1))\n",
    "\t\tmodel_ft.num_classes = num_classes\n",
    "\t\tinput_size = 224\n",
    "\n",
    "\telif model_name == \"densenet\":\n",
    "\t\t\"\"\" Densenet\n",
    "\t\t\"\"\"\n",
    "\t\tmodel_ft = models.densenet121(pretrained=use_pretrained)\n",
    "\t\tset_parameter_requires_grad(model_ft, feature_extract)\n",
    "\t\tnum_ftrs = model_ft.classifier.in_features\n",
    "\t\tmodel_ft.classifier = nn.Linear(num_ftrs, num_classes)\n",
    "\t\tinput_size = 224\n",
    "\n",
    "\telif model_name == \"inception\":\n",
    "\t\t\"\"\" Inception v3\n",
    "\t\tBe careful, expects (299,299) sized images and has auxiliary output\n",
    "\t\t\"\"\"\n",
    "\t\tkwargs = {\"transform_input\": True}\n",
    "\t\tmodel_ft = models.inception_v3(pretrained=use_pretrained, **kwargs)\n",
    "\t\tset_parameter_requires_grad(model_ft, feature_extract)\n",
    "\t\t# Handle the auxilary net\n",
    "\t\tnum_ftrs = model_ft.AuxLogits.fc.in_features\n",
    "\t\tmodel_ft.AuxLogits.fc = nn.Linear(num_ftrs, num_classes)\n",
    "\t\t# Handle the primary net\n",
    "\t\tnum_ftrs = model_ft.fc.in_features\n",
    "\t\tmodel_ft.fc = nn.Linear(num_ftrs,num_classes)\n",
    "\t\tinput_size = 299\n",
    "\n",
    "\telse:\n",
    "\t\tlogging_info(\"Invalid model name, exiting...\")\n",
    "\t\texit()\n",
    "\n",
    "\treturn model_ft, input_size"
   ]
  },
  {
   "cell_type": "code",
   "execution_count": 12,
   "metadata": {},
   "outputs": [
    {
     "name": "stderr",
     "output_type": "stream",
     "text": [
      "2024-03-04 21:47:16,639 Experiment ID: arman\n"
     ]
    }
   ],
   "source": [
    "checkpointDir = f\"finetuned_models/{experimentID}\"\n",
    "# checkpointDir = \"badnet_models/\" + experimentID + \"/rand_loc_\" +  str(rand_loc) + \"/eps_\" + str(eps) + \\\n",
    "# \t\t\t\t\"/patch_size_\" + str(patch_size) + \"/num_poison_\" + str(num_poison) + \"/trigger_\" + str(trigger_id)\n",
    "\n",
    "if not os.path.exists(os.path.dirname(checkpointDir)):\n",
    "\tos.makedirs(os.path.dirname(checkpointDir))\n",
    "\n",
    "#logging\n",
    "if not os.path.exists(os.path.dirname(logfile)):\n",
    "\t\tos.makedirs(os.path.dirname(logfile))\n",
    "\n",
    "logging_info(\"Experiment ID: {}\".format(experimentID))"
   ]
  },
  {
   "cell_type": "code",
   "execution_count": 13,
   "metadata": {},
   "outputs": [],
   "source": [
    "# Models to choose from [resnet, alexnet, vgg, squeezenet, densenet, inception]\n",
    "model_name = \"alexnet\"\n",
    "\n",
    "# Flag for feature extracting. When False, we finetune the whole model,\n",
    "#   when True we only update the reshaped layer params\n",
    "feature_extract = True"
   ]
  },
  {
   "cell_type": "code",
   "execution_count": 14,
   "metadata": {},
   "outputs": [
    {
     "name": "stderr",
     "output_type": "stream",
     "text": [
      "2024-03-04 21:47:16,650 Training poisoned model...\n",
      "/opt/homebrew/lib/python3.11/site-packages/torchvision/models/_utils.py:208: UserWarning: The parameter 'pretrained' is deprecated since 0.13 and may be removed in the future, please use 'weights' instead.\n",
      "  warnings.warn(\n",
      "/opt/homebrew/lib/python3.11/site-packages/torchvision/models/_utils.py:223: UserWarning: Arguments other than a weight enum or `None` for 'weights' are deprecated since 0.13 and may be removed in the future. The current behavior is equivalent to passing `weights=AlexNet_Weights.IMAGENET1K_V1`. You can also use `weights=AlexNet_Weights.DEFAULT` to get the most up-to-date weights.\n",
      "  warnings.warn(msg)\n",
      "2024-03-04 21:47:17,328 AlexNet(\n",
      "  (features): Sequential(\n",
      "    (0): Conv2d(3, 64, kernel_size=(11, 11), stride=(4, 4), padding=(2, 2))\n",
      "    (1): ReLU(inplace=True)\n",
      "    (2): MaxPool2d(kernel_size=3, stride=2, padding=0, dilation=1, ceil_mode=False)\n",
      "    (3): Conv2d(64, 192, kernel_size=(5, 5), stride=(1, 1), padding=(2, 2))\n",
      "    (4): ReLU(inplace=True)\n",
      "    (5): MaxPool2d(kernel_size=3, stride=2, padding=0, dilation=1, ceil_mode=False)\n",
      "    (6): Conv2d(192, 384, kernel_size=(3, 3), stride=(1, 1), padding=(1, 1))\n",
      "    (7): ReLU(inplace=True)\n",
      "    (8): Conv2d(384, 256, kernel_size=(3, 3), stride=(1, 1), padding=(1, 1))\n",
      "    (9): ReLU(inplace=True)\n",
      "    (10): Conv2d(256, 256, kernel_size=(3, 3), stride=(1, 1), padding=(1, 1))\n",
      "    (11): ReLU(inplace=True)\n",
      "    (12): MaxPool2d(kernel_size=3, stride=2, padding=0, dilation=1, ceil_mode=False)\n",
      "  )\n",
      "  (avgpool): AdaptiveAvgPool2d(output_size=(6, 6))\n",
      "  (classifier): Sequential(\n",
      "    (0): Dropout(p=0.5, inplace=False)\n",
      "    (1): Linear(in_features=9216, out_features=4096, bias=True)\n",
      "    (2): ReLU(inplace=True)\n",
      "    (3): Dropout(p=0.5, inplace=False)\n",
      "    (4): Linear(in_features=4096, out_features=4096, bias=True)\n",
      "    (5): ReLU(inplace=True)\n",
      "    (6): Linear(in_features=4096, out_features=10, bias=True)\n",
      "  )\n",
      ")\n"
     ]
    }
   ],
   "source": [
    "# Train poisoned model\n",
    "logging_info(\"Training poisoned model...\")\n",
    "# Initialize the model for this run\n",
    "model_ft, input_size = initialize_model(model_name, num_classes, feature_extract, use_pretrained=True)\n",
    "logging_info(model_ft)"
   ]
  },
  {
   "cell_type": "code",
   "execution_count": 15,
   "metadata": {},
   "outputs": [],
   "source": [
    "# Transforms\n",
    "data_transforms = transforms.Compose([\n",
    "\t\ttransforms.Resize((input_size, input_size)),\n",
    "\t\ttransforms.ToTensor(),\n",
    "\t\t])"
   ]
  },
  {
   "cell_type": "code",
   "execution_count": 16,
   "metadata": {},
   "outputs": [
    {
     "name": "stderr",
     "output_type": "stream",
     "text": [
      "2024-03-04 21:47:17,353 Initializing Datasets and Dataloaders...\n"
     ]
    }
   ],
   "source": [
    "logging_info(\"Initializing Datasets and Dataloaders...\")"
   ]
  },
  {
   "cell_type": "code",
   "execution_count": 17,
   "metadata": {},
   "outputs": [],
   "source": [
    "# sys.exit()\n",
    "dataset_clean = LabeledDataset(clean_filelist, labels, data_transforms)\n",
    "dataset_test = LabeledDataset(test_filelist, labels, data_transforms)\n",
    "dataset_patched = LabeledDataset(patched_filelist, labels, data_transforms)\n",
    "dataset_poison = LabeledDataset(poison_filelist, labels, data_transforms)\n",
    "\n",
    "dataset_train = torch.utils.data.ConcatDataset((dataset_clean, dataset_poison))"
   ]
  },
  {
   "cell_type": "code",
   "execution_count": 18,
   "metadata": {},
   "outputs": [
    {
     "name": "stderr",
     "output_type": "stream",
     "text": [
      "2024-03-04 21:47:17,366 Number of clean images: 20\n",
      "2024-03-04 21:47:17,368 Number of poison images: 20\n"
     ]
    }
   ],
   "source": [
    "dataloaders_dict = {}\n",
    "dataloaders_dict['train'] =  torch.utils.data.DataLoader(dataset_train, batch_size=batch_size,\n",
    "\t\t\t\t\t\t\t\t\t\t\t\t\t\t shuffle=True)\n",
    "dataloaders_dict['test'] =  torch.utils.data.DataLoader(dataset_test, batch_size=batch_size,\n",
    "\t\t\t\t\t\t\t\t\t\t\t\t\t\tshuffle=True)\n",
    "dataloaders_dict['patched'] =  torch.utils.data.DataLoader(dataset_patched, batch_size=batch_size,\n",
    "\t\t\t\t\t\t\t\t\t\t\t\t\t\t   shuffle=False)\n",
    "dataloaders_dict['notpatched'] =  torch.utils.data.DataLoader(dataset_patched, batch_size=batch_size,\n",
    "\t\t\t\t\t\t\t\t\t\t\t\t\t\t\t  shuffle=False)\n",
    "\n",
    "logging_info(\"Number of clean images: {}\".format(len(dataset_clean)))\n",
    "logging_info(\"Number of poison images: {}\".format(len(dataset_poison)))"
   ]
  },
  {
   "cell_type": "code",
   "execution_count": 19,
   "metadata": {},
   "outputs": [
    {
     "name": "stderr",
     "output_type": "stream",
     "text": [
      "2024-03-04 21:47:17,373 Params to learn:\n",
      "2024-03-04 21:47:17,374 classifier.6.weight\n",
      "2024-03-04 21:47:17,374 classifier.6.bias\n"
     ]
    }
   ],
   "source": [
    "# Gather the parameters to be optimized/updated in this run. If we are\n",
    "#  finetuning we will be updating all parameters. However, if we are\n",
    "#  doing feature extract method, we will only update the parameters\n",
    "#  that we have just initialized, i.e. the parameters with requires_grad\n",
    "#  is True.\n",
    "params_to_update = model_ft.parameters()\n",
    "logging_info(\"Params to learn:\")\n",
    "if feature_extract:\n",
    "\tparams_to_update = []\n",
    "\tfor name,param in model_ft.named_parameters():\n",
    "\t\tif param.requires_grad == True:\n",
    "\t\t\tparams_to_update.append(param)\n",
    "\t\t\tlogging_info(name)\n",
    "else:\n",
    "\tfor name,param in model_ft.named_parameters():\n",
    "\t\tif param.requires_grad == True:\n",
    "\t\t\tlogging_info(name)"
   ]
  },
  {
   "cell_type": "code",
   "execution_count": 20,
   "metadata": {},
   "outputs": [
    {
     "name": "stderr",
     "output_type": "stream",
     "text": [
      "2024-03-04 21:47:17,656 Epoch 0/1\n",
      "2024-03-04 21:47:17,657 ----------\n",
      "100%|██████████| 1/1 [00:00<00:00,  1.68it/s]\n",
      "2024-03-04 21:47:18,579 train Loss: 2.9824 Acc: 0.0000\n",
      "100%|██████████| 1/1 [00:00<00:00,  2.29it/s]\n",
      "2024-03-04 21:47:19,019 test Loss: 0.0000 Acc: 1.0000\n",
      "2024-03-04 21:47:19,029 Better model found!\n",
      "100%|██████████| 1/1 [00:00<00:00,  7.00it/s]\n",
      "2024-03-04 21:47:19,175 notpatched Loss: 0.0000 Acc: 1.0000\n",
      "100%|██████████| 1/1 [00:00<00:00,  7.18it/s]\n",
      "2024-03-04 21:47:19,317 patched Loss: 0.0001 Acc: 1.0000\n",
      "2024-03-04 21:47:19,318 Epoch 1/1\n",
      "2024-03-04 21:47:19,318 ----------\n",
      "100%|██████████| 1/1 [00:00<00:00,  3.84it/s]\n",
      "2024-03-04 21:47:19,580 train Loss: 0.0000 Acc: 1.0000\n",
      "100%|██████████| 1/1 [00:00<00:00,  7.39it/s]\n",
      "2024-03-04 21:47:19,718 test Loss: 0.0000 Acc: 1.0000\n",
      "100%|██████████| 1/1 [00:00<00:00,  7.25it/s]\n",
      "2024-03-04 21:47:19,859 notpatched Loss: 0.0000 Acc: 1.0000\n",
      "100%|██████████| 1/1 [00:00<00:00,  7.44it/s]\n",
      "2024-03-04 21:47:19,997 patched Loss: 0.0001 Acc: 1.0000\n",
      "2024-03-04 21:47:19,997 Training complete in 0m 2s\n",
      "2024-03-04 21:47:19,998 Max Test Acc: 1.000000\n",
      "2024-03-04 21:47:20,003 Last 10 Epochs Test Acc: Mean 1.000 Std 0.000 \n",
      "2024-03-04 21:47:20,003 Last 10 Epochs Patched Targeted Attack Success Rate: Mean 1.000 Std 0.000 \n",
      "2024-03-04 21:47:20,004 Last 10 Epochs NotPatched Targeted Attack Success Rate: Mean 1.000 Std 0.000 \n",
      "2024-03-04 21:47:20,005 10 Epochs with Best Acc- Test Acc: Mean 1.000 Std 0.000 \n",
      "2024-03-04 21:47:20,005 10 Epochs with Best Acc- Patched Targeted Attack Success Rate: Mean 1.000 Std 0.000 \n",
      "2024-03-04 21:47:20,005 10 Epochs with Best Acc- NotPatched Targeted Attack Success Rate: Mean 1.000 Std 0.000 \n"
     ]
    }
   ],
   "source": [
    "optimizer_ft = optim.SGD(params_to_update, lr=lr, momentum = momentum)\n",
    "\n",
    "# Setup the loss fxn\n",
    "criterion = nn.CrossEntropyLoss()\n",
    "\n",
    "normalize = NormalizeByChannelMeanStd(mean=[0.485, 0.456, 0.406], std=[0.229, 0.224, 0.225])\n",
    "model = nn.Sequential(normalize, model_ft)\n",
    "model = model.to(device)\n",
    "\n",
    "# Train and evaluate\n",
    "model, meta_dict = train_model(model, dataloaders_dict, criterion, optimizer_ft,\n",
    "\t\t\t\t\t\t\t\t  num_epochs=epochs, is_inception=(model_name==\"inception\"))\n",
    "\n",
    "\n",
    "save_checkpoint({\n",
    "\t\t\t\t'arch': model_name,\n",
    "\t\t\t\t'state_dict': model.state_dict(),\n",
    "\t\t\t\t'meta_dict': meta_dict\n",
    "\t\t\t\t}, filename=os.path.join(checkpointDir, \"poisoned_model.pt\"))"
   ]
  },
  {
   "cell_type": "code",
   "execution_count": 21,
   "metadata": {},
   "outputs": [
    {
     "name": "stderr",
     "output_type": "stream",
     "text": [
      "2024-03-04 21:47:20,825 Training clean model...\n",
      "2024-03-04 21:47:21,372 AlexNet(\n",
      "  (features): Sequential(\n",
      "    (0): Conv2d(3, 64, kernel_size=(11, 11), stride=(4, 4), padding=(2, 2))\n",
      "    (1): ReLU(inplace=True)\n",
      "    (2): MaxPool2d(kernel_size=3, stride=2, padding=0, dilation=1, ceil_mode=False)\n",
      "    (3): Conv2d(64, 192, kernel_size=(5, 5), stride=(1, 1), padding=(2, 2))\n",
      "    (4): ReLU(inplace=True)\n",
      "    (5): MaxPool2d(kernel_size=3, stride=2, padding=0, dilation=1, ceil_mode=False)\n",
      "    (6): Conv2d(192, 384, kernel_size=(3, 3), stride=(1, 1), padding=(1, 1))\n",
      "    (7): ReLU(inplace=True)\n",
      "    (8): Conv2d(384, 256, kernel_size=(3, 3), stride=(1, 1), padding=(1, 1))\n",
      "    (9): ReLU(inplace=True)\n",
      "    (10): Conv2d(256, 256, kernel_size=(3, 3), stride=(1, 1), padding=(1, 1))\n",
      "    (11): ReLU(inplace=True)\n",
      "    (12): MaxPool2d(kernel_size=3, stride=2, padding=0, dilation=1, ceil_mode=False)\n",
      "  )\n",
      "  (avgpool): AdaptiveAvgPool2d(output_size=(6, 6))\n",
      "  (classifier): Sequential(\n",
      "    (0): Dropout(p=0.5, inplace=False)\n",
      "    (1): Linear(in_features=9216, out_features=4096, bias=True)\n",
      "    (2): ReLU(inplace=True)\n",
      "    (3): Dropout(p=0.5, inplace=False)\n",
      "    (4): Linear(in_features=4096, out_features=4096, bias=True)\n",
      "    (5): ReLU(inplace=True)\n",
      "    (6): Linear(in_features=4096, out_features=10, bias=True)\n",
      "  )\n",
      ")\n"
     ]
    }
   ],
   "source": [
    "# Train clean model\n",
    "logging_info(\"Training clean model...\")\n",
    "# Initialize the model for this run\n",
    "model_ft, input_size = initialize_model(model_name, num_classes, feature_extract, use_pretrained=True)\n",
    "logging_info(model_ft)"
   ]
  },
  {
   "cell_type": "code",
   "execution_count": 22,
   "metadata": {},
   "outputs": [
    {
     "name": "stderr",
     "output_type": "stream",
     "text": [
      "2024-03-04 21:47:21,379 Initializing Datasets and Dataloaders...\n"
     ]
    }
   ],
   "source": [
    "# Transforms\n",
    "data_transforms = transforms.Compose([\n",
    "\t\ttransforms.Resize((input_size, input_size)),\n",
    "\t\ttransforms.ToTensor(),\n",
    "\t\t])\n",
    "\n",
    "logging_info(\"Initializing Datasets and Dataloaders...\")"
   ]
  },
  {
   "cell_type": "code",
   "execution_count": 24,
   "metadata": {},
   "outputs": [],
   "source": [
    "dataset_train = LabeledDataset(finetune_filelist, labels, data_transforms)\n",
    "dataset_test = LabeledDataset(test_filelist, labels, data_transforms)\n",
    "dataset_patched = LabeledDataset(patched_filelist, labels, data_transforms)"
   ]
  },
  {
   "cell_type": "code",
   "execution_count": 25,
   "metadata": {},
   "outputs": [
    {
     "name": "stderr",
     "output_type": "stream",
     "text": [
      "2024-03-04 21:47:54,544 Number of clean images: 20\n"
     ]
    }
   ],
   "source": [
    "dataloaders_dict = {}\n",
    "dataloaders_dict['train'] =  torch.utils.data.DataLoader(dataset_train, batch_size=batch_size,\n",
    "\t\t\t\t\t\t\t\t\t\t\t\t\t\t shuffle=True)\n",
    "dataloaders_dict['test'] =  torch.utils.data.DataLoader(dataset_test, batch_size=batch_size,\n",
    "\t\t\t\t\t\t\t\t\t\t\t\t\t\tshuffle=True)\n",
    "dataloaders_dict['patched'] =  torch.utils.data.DataLoader(dataset_patched, batch_size=batch_size,\n",
    "\t\t\t\t\t\t\t\t\t\t\t\t\t\t   shuffle=False)\n",
    "dataloaders_dict['notpatched'] =  torch.utils.data.DataLoader(dataset_patched, batch_size=batch_size,\n",
    "\t\t\t\t\t\t\t\t\t\t\t\t\t\t\t  shuffle=False)\n",
    "\n",
    "logging_info(\"Number of clean images: {}\".format(len(dataset_train)))"
   ]
  },
  {
   "cell_type": "code",
   "execution_count": 26,
   "metadata": {},
   "outputs": [
    {
     "name": "stderr",
     "output_type": "stream",
     "text": [
      "2024-03-04 21:47:56,945 Params to learn:\n",
      "2024-03-04 21:47:56,949 classifier.6.weight\n",
      "2024-03-04 21:47:56,950 classifier.6.bias\n"
     ]
    }
   ],
   "source": [
    "# Gather the parameters to be optimized/updated in this run. If we are\n",
    "#  finetuning we will be updating all parameters. However, if we are\n",
    "#  doing feature extract method, we will only update the parameters\n",
    "#  that we have just initialized, i.e. the parameters with requires_grad\n",
    "#  is True.\n",
    "params_to_update = model_ft.parameters()\n",
    "logging_info(\"Params to learn:\")\n",
    "if feature_extract:\n",
    "\tparams_to_update = []\n",
    "\tfor name,param in model_ft.named_parameters():\n",
    "\t\tif param.requires_grad == True:\n",
    "\t\t\tparams_to_update.append(param)\n",
    "\t\t\tlogging_info(name)\n",
    "else:\n",
    "\tfor name,param in model_ft.named_parameters():\n",
    "\t\tif param.requires_grad == True:\n",
    "\t\t\tlogging_info(name)"
   ]
  },
  {
   "cell_type": "code",
   "execution_count": 27,
   "metadata": {},
   "outputs": [
    {
     "name": "stderr",
     "output_type": "stream",
     "text": [
      "2024-03-04 21:48:00,451 Epoch 0/1\n",
      "2024-03-04 21:48:00,452 ----------\n",
      "100%|██████████| 1/1 [00:00<00:00,  5.05it/s]\n",
      "2024-03-04 21:48:00,653 train Loss: 2.7603 Acc: 0.0000\n",
      "100%|██████████| 1/1 [00:00<00:00,  6.86it/s]\n",
      "2024-03-04 21:48:00,801 test Loss: 0.0001 Acc: 1.0000\n",
      "2024-03-04 21:48:00,802 Better model found!\n",
      "100%|██████████| 1/1 [00:00<00:00,  6.61it/s]\n",
      "2024-03-04 21:48:00,957 notpatched Loss: 0.0001 Acc: 1.0000\n",
      "100%|██████████| 1/1 [00:00<00:00,  6.95it/s]\n",
      "2024-03-04 21:48:01,103 patched Loss: 0.0001 Acc: 1.0000\n",
      "2024-03-04 21:48:01,104 Epoch 1/1\n",
      "2024-03-04 21:48:01,104 ----------\n",
      "100%|██████████| 1/1 [00:00<00:00,  6.73it/s]\n",
      "2024-03-04 21:48:01,256 train Loss: 0.0001 Acc: 1.0000\n",
      "100%|██████████| 1/1 [00:00<00:00,  7.29it/s]\n",
      "2024-03-04 21:48:01,395 test Loss: 0.0001 Acc: 1.0000\n",
      "100%|██████████| 1/1 [00:00<00:00,  6.83it/s]\n",
      "2024-03-04 21:48:01,545 notpatched Loss: 0.0001 Acc: 1.0000\n",
      "100%|██████████| 1/1 [00:00<00:00,  6.73it/s]\n",
      "2024-03-04 21:48:01,697 patched Loss: 0.0001 Acc: 1.0000\n",
      "2024-03-04 21:48:01,697 Training complete in 0m 1s\n",
      "2024-03-04 21:48:01,698 Max Test Acc: 1.000000\n",
      "2024-03-04 21:48:01,698 Last 10 Epochs Test Acc: Mean 1.000 Std 0.000 \n",
      "2024-03-04 21:48:01,699 Last 10 Epochs Patched Targeted Attack Success Rate: Mean 1.000 Std 0.000 \n",
      "2024-03-04 21:48:01,699 Last 10 Epochs NotPatched Targeted Attack Success Rate: Mean 1.000 Std 0.000 \n",
      "2024-03-04 21:48:01,700 10 Epochs with Best Acc- Test Acc: Mean 1.000 Std 0.000 \n",
      "2024-03-04 21:48:01,700 10 Epochs with Best Acc- Patched Targeted Attack Success Rate: Mean 1.000 Std 0.000 \n",
      "2024-03-04 21:48:01,700 10 Epochs with Best Acc- NotPatched Targeted Attack Success Rate: Mean 1.000 Std 0.000 \n"
     ]
    }
   ],
   "source": [
    "optimizer_ft = optim.SGD(params_to_update, lr=lr, momentum = momentum)\n",
    "\n",
    "# Setup the loss fxn\n",
    "criterion = nn.CrossEntropyLoss()\n",
    "\n",
    "normalize = NormalizeByChannelMeanStd(mean=[0.485, 0.456, 0.406], std=[0.229, 0.224, 0.225])\n",
    "model = nn.Sequential(normalize, model_ft)\n",
    "model = model.to(device)\n",
    "\n",
    "# Train and evaluate\n",
    "model, meta_dict = train_model(model, dataloaders_dict, criterion, optimizer_ft,\n",
    "\t\t\t\t\t\t\t\t  num_epochs=epochs, is_inception=(model_name==\"inception\"))\n",
    "\n",
    "save_checkpoint({\n",
    "\t\t\t\t'arch': model_name,\n",
    "\t\t\t\t'state_dict': model.state_dict(),\n",
    "\t\t\t\t'meta_dict': meta_dict\n",
    "\t\t\t\t}, filename=os.path.join(checkpointDir, \"clean_model.pt\"))"
   ]
  },
  {
   "cell_type": "code",
   "execution_count": null,
   "metadata": {},
   "outputs": [],
   "source": []
  }
 ],
 "metadata": {
  "kernelspec": {
   "display_name": "Python 3",
   "language": "python",
   "name": "python3"
  },
  "language_info": {
   "codemirror_mode": {
    "name": "ipython",
    "version": 3
   },
   "file_extension": ".py",
   "mimetype": "text/x-python",
   "name": "python",
   "nbconvert_exporter": "python",
   "pygments_lexer": "ipython3",
   "version": "3.11.5"
  }
 },
 "nbformat": 4,
 "nbformat_minor": 2
}
